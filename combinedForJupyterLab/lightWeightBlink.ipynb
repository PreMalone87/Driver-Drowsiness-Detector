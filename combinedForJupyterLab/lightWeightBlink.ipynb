{
 "cells": [
  {
   "cell_type": "code",
   "execution_count": 1,
   "id": "4c33c96b-0589-4737-8902-b9890e936880",
   "metadata": {},
   "outputs": [],
   "source": [
    "import cv2\n",
    "import tensorflow as tf\n",
    "import numpy as np\n",
    "import keras\n",
    "import matplotlib.pyplot as plt\n",
    "import tensorflow.keras.layers as layers\n",
    "\n",
    "import mediapipe as mp\n",
    "import numpy as np\n",
    "import time\n"
   ]
  },
  {
   "cell_type": "code",
   "execution_count": 2,
   "id": "3c6f329a-8fdc-4730-b075-164934c01068",
   "metadata": {},
   "outputs": [
    {
     "name": "stdout",
     "output_type": "stream",
     "text": [
      "1/1 [==============================] - 2s 2s/step\n",
      "Predicted :  0.4778534836970237\n"
     ]
    }
   ],
   "source": [
    "#model.load_weights(\"D:\\\\DriverStateAnalysis\\\\DriverDrowsinessDetection\\\\blinkDetectionCode\\\\CEW.h5\")\n",
    "model  =  tf.keras.models.load_model(\"D:\\\\DriverStateAnalysis\\\\DriverDrowsinessDetection\\\\blinkDetectionCode\\\\CEWLight.h5\")\n",
    "image = cv2.imread(\"D:\\\\eyePics\\\\0.jpg\",0)\n",
    "\n",
    "\n",
    "\n",
    "image = cv2.resize(image,(75,75))\n",
    "image = cv2.resize(image,(75,75))\n",
    "image = cv2.cvtColor(image,cv2.COLOR_GRAY2BGR)\n",
    "image = image/255.0\n",
    "image = [image]\n",
    "image = np.array(image)\n",
    "\n",
    "start = time.time()\n",
    "pred = model.predict(image)\n",
    "end = time.time()\n",
    "\n",
    "\n",
    "print(\"Predicted : \",1/(end-start))\n"
   ]
  },
  {
   "cell_type": "code",
   "execution_count": null,
   "id": "0a171e4f-1fef-42a6-b13f-b0b54b4ea109",
   "metadata": {},
   "outputs": [],
   "source": []
  }
 ],
 "metadata": {
  "kernelspec": {
   "display_name": "Python 3 (ipykernel)",
   "language": "python",
   "name": "python3"
  },
  "language_info": {
   "codemirror_mode": {
    "name": "ipython",
    "version": 3
   },
   "file_extension": ".py",
   "mimetype": "text/x-python",
   "name": "python",
   "nbconvert_exporter": "python",
   "pygments_lexer": "ipython3",
   "version": "3.10.9"
  }
 },
 "nbformat": 4,
 "nbformat_minor": 5
}
